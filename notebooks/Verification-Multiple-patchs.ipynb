{
 "metadata": {
  "name": ""
 },
 "nbformat": 3,
 "nbformat_minor": 0,
 "worksheets": [
  {
   "cells": [
    {
     "cell_type": "code",
     "collapsed": false,
     "input": [
      "%pylab inline\n",
      "import os\n",
      "import cv2\n",
      "import startup\n",
      "import config\n",
      "from dataset.dataset import DataSet\n",
      "from algorithms.analysisframework       import AnalysisFramework\n",
      "from algorithms.distance import *\n",
      "from utils import *"
     ],
     "language": "python",
     "metadata": {},
     "outputs": [
      {
       "output_type": "stream",
       "stream": "stdout",
       "text": [
        "Populating the interactive namespace from numpy and matplotlib\n",
        "/media/blcv/drive_2TB/CODE/FV-Benchmark/lib\n"
       ]
      }
     ],
     "prompt_number": 1
    },
    {
     "cell_type": "code",
     "collapsed": false,
     "input": [
      "main_folder = \"/media/blcv/drive_2TB/CODE/FV-Benchmark/\"\n",
      "config_files = list()\n",
      "config_files.append(main_folder + \"Nets/configs_net/multi_path/casia_ver_central.json\")\n",
      "config_files.append(main_folder + \"Nets/configs_net/multi_path/casia_ver_central_eye_hair.json\")\n",
      "config_files.append(main_folder + \"Nets/configs_net/multi_path/casia_ver_central_eye_mouth.json\")\n",
      "config_files.append(main_folder + \"Nets/configs_net/casia_ver_conv52.json\")\n",
      "for idx in range(len(config_files)):\n",
      "    config_files[idx] = parse_deep_config(config_files[idx])"
     ],
     "language": "python",
     "metadata": {},
     "outputs": [],
     "prompt_number": 2
    },
    {
     "cell_type": "code",
     "collapsed": false,
     "input": [
      "def loadDataLabels(config):\n",
      "    data = DataSet(\"deep\",config)\n",
      "    labels_train = data.loadDataClassification(\"train\")\n",
      "    labels_val = data.loadDataClassification(\"val\")\n",
      "    labels_ver_train = data.loadDataVerification(\"train\")\n",
      "    labels_ver_val   = data.loadDataVerification(\"val\")\n",
      "    #load LFW data\n",
      "    _, pairs_lfw = data.loadLFW()\n",
      "    return labels_train, labels_val, labels_ver_train, labels_ver_val, pairs_lfw\n",
      "\n",
      "def loadDataFeatures(config):\n",
      "    data = DataSet(\"deep\",config)\n",
      "    features         = data.loadFeatures().astype(np.float32)\n",
      "    #load LFW data\n",
      "    features_lfw, pairs_lfw = data.loadLFW()\n",
      "    return features, features_lfw\n",
      "\n",
      "#load labels and pairs\n",
      "labels_train, labels_val, labels_ver_train, labels_ver_val, pairs_lfw = loadDataLabels(config_files[0])\n",
      "\n",
      "#load data from each Net, merge it\n",
      "list_features = list()\n",
      "list_features_lfw = list()\n",
      "for config in config_files:\n",
      "    features,features_lfw = loadDataFeatures(config)\n",
      "    list_features.append(features)\n",
      "    list_features_lfw.append(features_lfw)\n",
      "    \n",
      "all_features = np.concatenate(list_features, axis = 1)    \n",
      "all_features_lfw = np.concatenate(list_features_lfw, axis = 1)"
     ],
     "language": "python",
     "metadata": {},
     "outputs": [],
     "prompt_number": 3
    },
    {
     "cell_type": "code",
     "collapsed": false,
     "input": [
      "analysis = AnalysisFramework(config_files[0], features)\n",
      "labels = []\n",
      "acc_train = []\n",
      "acc_val   = []\n",
      "roc_train = []\n",
      "roc_val   = []\n",
      "acc_lfw   = []\n",
      "roc_lfw   = []"
     ],
     "language": "python",
     "metadata": {},
     "outputs": [],
     "prompt_number": 6
    },
    {
     "cell_type": "code",
     "collapsed": false,
     "input": [
      "labels.append(\"Cosine Distance\")\n",
      "#cosine distance\n",
      "acc,roc = analysis.computeStatsMulti(features, labels_ver_train, distance = cosineDistance)\n",
      "acc_train.append(acc)\n",
      "roc_train.append(roc)\n",
      "acc,roc = analysis.computeStatsMulti(features, labels_ver_val, distance = cosineDistance)\n",
      "acc_val.append(acc)\n",
      "roc_val.append(roc)\n",
      "#LFW\n",
      "acc,roc = analysis.computeStatsMulti(features_lfw, pairs_lfw, distance = cosineDistance)\n",
      "acc_lfw.append(acc)\n",
      "roc_lfw.append(roc)"
     ],
     "language": "python",
     "metadata": {},
     "outputs": [
      {
       "output_type": "stream",
       "stream": "stdout",
       "text": [
        "1581312\n"
       ]
      },
      {
       "output_type": "stream",
       "stream": "stdout",
       "text": [
        "1581312\n",
        "argmax: "
       ]
      },
      {
       "output_type": "stream",
       "stream": "stdout",
       "text": [
        " 53\n",
        "Best Thres: 0.251158409648\n"
       ]
      },
      {
       "output_type": "stream",
       "stream": "stdout",
       "text": [
        "395392\n"
       ]
      },
      {
       "output_type": "stream",
       "stream": "stdout",
       "text": [
        "395392\n",
        "argmax: "
       ]
      },
      {
       "output_type": "stream",
       "stream": "stdout",
       "text": [
        " 49\n",
        "Best Thres: 0.219535846903\n"
       ]
      },
      {
       "output_type": "stream",
       "stream": "stdout",
       "text": [
        "3000\n"
       ]
      },
      {
       "output_type": "stream",
       "stream": "stdout",
       "text": [
        "3000\n",
        "argmax:  57\n",
        "Best Thres: 0.367926221905\n"
       ]
      }
     ],
     "prompt_number": 7
    },
    {
     "cell_type": "code",
     "collapsed": false,
     "input": [
      "labels.append(\"PCA + Cosine Distance\")\n",
      "#PCA + Cosine\n",
      "name_alg = \"pca\"\n",
      "acc,roc  = analysis.compressDescriptors(name_alg, features, labels_ver_train, dim = 256)\n",
      "acc_train.append(acc)\n",
      "roc_train.append(roc)\n",
      "acc,roc = analysis.compressDescriptorsTransform(features, labels_ver_val, name_alg)\n",
      "acc_val.append(acc)\n",
      "roc_val.append(roc)\n",
      "#LFW\n",
      "acc,roc = analysis.compressDescriptorsTransform(features_lfw, pairs_lfw, name_alg)\n",
      "acc_lfw.append(acc)\n",
      "roc_lfw.append(roc)"
     ],
     "language": "python",
     "metadata": {},
     "outputs": [
      {
       "output_type": "stream",
       "stream": "stdout",
       "text": [
        "Save algorithm:  pca\n"
       ]
      },
      {
       "output_type": "stream",
       "stream": "stdout",
       "text": [
        "1581312\n"
       ]
      },
      {
       "output_type": "stream",
       "stream": "stdout",
       "text": [
        "1581312\n",
        "argmax: "
       ]
      },
      {
       "output_type": "stream",
       "stream": "stdout",
       "text": [
        " 29\n",
        "Best Thres: 0.0835892359416\n"
       ]
      },
      {
       "output_type": "stream",
       "stream": "stdout",
       "text": [
        "395392\n"
       ]
      },
      {
       "output_type": "stream",
       "stream": "stdout",
       "text": [
        "395392\n",
        "argmax: "
       ]
      },
      {
       "output_type": "stream",
       "stream": "stdout",
       "text": [
        " 29\n",
        "Best Thres: 0.083896934384\n"
       ]
      },
      {
       "output_type": "stream",
       "stream": "stdout",
       "text": [
        "3000\n"
       ]
      },
      {
       "output_type": "stream",
       "stream": "stdout",
       "text": [
        "3000\n",
        "argmax:  32\n",
        "Best Thres: 0.113379832169\n"
       ]
      }
     ],
     "prompt_number": 9
    },
    {
     "cell_type": "code",
     "collapsed": false,
     "input": [
      "labels.append(\"Join Bayesian\")\n",
      "data = DataSet(\"deep\",config_files[0])\n",
      "#Join Bayes \n",
      "acc,roc  = analysis.supervisedLearningJB((features[labels_train],data.labels[labels_train]), labels_ver_train)\n",
      "acc_train.append(acc)\n",
      "roc_train.append(roc)\n",
      "acc,roc  = analysis.supervisedLearningPredictJB(features, labels_ver_val)\n",
      "acc_val.append(acc)\n",
      "roc_val.append(roc)\n",
      "#LFW\n",
      "acc,roc = analysis.supervisedLearningPredictJB(features_lfw, pairs_lfw)\n",
      "acc_lfw.append(acc)\n",
      "roc_lfw.append(roc)"
     ],
     "language": "python",
     "metadata": {},
     "outputs": [
      {
       "output_type": "stream",
       "stream": "stdout",
       "text": [
        "Finished iteration #1 with error reduction: 5094.638785 1502.875697\n"
       ]
      },
      {
       "output_type": "stream",
       "stream": "stdout",
       "text": [
        "Finished iteration #2 with error reduction: 5065.788291 1453.135876\n"
       ]
      },
      {
       "output_type": "stream",
       "stream": "stdout",
       "text": [
        "Finished iteration #3 with error reduction: 29.425224 16.459226\n"
       ]
      },
      {
       "output_type": "stream",
       "stream": "stdout",
       "text": [
        "Finished iteration #4 with error reduction: 4.089284 2.154106\n"
       ]
      },
      {
       "output_type": "stream",
       "stream": "stdout",
       "text": [
        "Finished iteration #5 with error reduction: 3.287771 0.689118\n"
       ]
      },
      {
       "output_type": "stream",
       "stream": "stdout",
       "text": [
        "Finished iteration #6 with error reduction: 5.468988 0.556131\n"
       ]
      },
      {
       "output_type": "stream",
       "stream": "stdout",
       "text": [
        "Finished iteration #7 with error reduction: 7.495667 0.451383\n"
       ]
      },
      {
       "output_type": "stream",
       "stream": "stdout",
       "text": [
        "Finished iteration #8 with error reduction: 20.896080 0.309053\n"
       ]
      },
      {
       "output_type": "stream",
       "stream": "stdout",
       "text": [
        "Finished iteration #9 with error reduction: 133.718220 0.225617\n"
       ]
      },
      {
       "output_type": "stream",
       "stream": "stdout",
       "text": [
        "Finished iteration #10 with error reduction: 90860.577923 0.096077\n"
       ]
      },
      {
       "output_type": "stream",
       "stream": "stdout",
       "text": [
        "Finished iteration #11 with error reduction: 1733122016507638.750000 4641.445859\n"
       ]
      },
      {
       "output_type": "stream",
       "stream": "stdout",
       "text": [
        "Save algorithm:  jb\n"
       ]
      },
      {
       "output_type": "stream",
       "stream": "stdout",
       "text": [
        "1581312\n"
       ]
      },
      {
       "output_type": "stream",
       "stream": "stdout",
       "text": [
        "1581312\n",
        "argmax: "
       ]
      },
      {
       "output_type": "stream",
       "stream": "stdout",
       "text": [
        " 65\n",
        "Best Thres: -80.286994958\n"
       ]
      },
      {
       "output_type": "stream",
       "stream": "stdout",
       "text": [
        "395392\n"
       ]
      },
      {
       "output_type": "stream",
       "stream": "stdout",
       "text": [
        "395392\n",
        "argmax: "
       ]
      },
      {
       "output_type": "stream",
       "stream": "stdout",
       "text": [
        " 46\n",
        "Best Thres: -87.7637793611\n"
       ]
      },
      {
       "output_type": "stream",
       "stream": "stdout",
       "text": [
        "3000\n"
       ]
      },
      {
       "output_type": "stream",
       "stream": "stdout",
       "text": [
        "3000\n",
        "argmax:  48\n",
        "Best Thres: -86.7608046453\n"
       ]
      }
     ],
     "prompt_number": 12
    },
    {
     "cell_type": "code",
     "collapsed": false,
     "input": [
      "labels.append(\"SVM + Chi^2\")\n",
      "#SVM on output of Chi^2 distance\n",
      "acc,roc  = analysis.supervisedLearningSVM((features, labels_ver_train), chi2Distance)\n",
      "acc_train.append(acc)\n",
      "roc_train.append(roc)\n",
      "acc,roc  = analysis.supervisedLearningPredictSVM(features,labels_ver_val)\n",
      "acc_val.append(acc)\n",
      "roc_val.append(roc)\n",
      "#LFW\n",
      "acc,roc = analysis.supervisedLearningPredictSVM(features_lfw, pairs_lfw)\n",
      "acc_lfw.append(acc)\n",
      "roc_lfw.append(roc)"
     ],
     "language": "python",
     "metadata": {},
     "outputs": [
      {
       "output_type": "stream",
       "stream": "stdout",
       "text": [
        "1581312\n"
       ]
      },
      {
       "output_type": "stream",
       "stream": "stdout",
       "text": [
        "1581312\n",
        "Save algorithm: "
       ]
      },
      {
       "output_type": "stream",
       "stream": "stdout",
       "text": [
        " svm\n"
       ]
      },
      {
       "output_type": "stream",
       "stream": "stdout",
       "text": [
        "1581312\n"
       ]
      },
      {
       "output_type": "stream",
       "stream": "stdout",
       "text": [
        "1581312\n",
        "argmax: "
       ]
      },
      {
       "output_type": "stream",
       "stream": "stdout",
       "text": [
        " 68\n",
        "Best Thres: 0.111085614697\n"
       ]
      },
      {
       "output_type": "stream",
       "stream": "stdout",
       "text": [
        "395392\n"
       ]
      },
      {
       "output_type": "stream",
       "stream": "stdout",
       "text": [
        "395392\n",
        "argmax: "
       ]
      },
      {
       "output_type": "stream",
       "stream": "stdout",
       "text": [
        " 67\n",
        "Best Thres: -0.115110547077\n"
       ]
      },
      {
       "output_type": "stream",
       "stream": "stdout",
       "text": [
        "3000\n"
       ]
      },
      {
       "output_type": "stream",
       "stream": "stdout",
       "text": [
        "3000\n",
        "argmax:  69\n",
        "Best Thres: 0.760167841978\n"
       ]
      }
     ],
     "prompt_number": 13
    },
    {
     "cell_type": "code",
     "collapsed": false,
     "input": [
      "analysis.displayStats(labels, acc_train, roc_train, \"CASIA_train\")"
     ],
     "language": "python",
     "metadata": {},
     "outputs": [
      {
       "output_type": "stream",
       "stream": "stdout",
       "text": [
        "Cosine Distance: 0.9283\n",
        "PCA + Cosine Distance: 0.8342\n",
        "Join Bayesian: 0.8857\n",
        "Join Bayesian: 0.9273\n"
       ]
      },
      {
       "metadata": {},
       "output_type": "display_data",
       "png": "[encoded data removed]",
       "text": [
        "<matplotlib.figure.Figure at 0x7f27b1ca0050>"
       ]
      }
     ],
     "prompt_number": 14
    },
    {
     "cell_type": "code",
     "collapsed": false,
     "input": [
      "analysis.displayStats(labels, acc_val, roc_val, \"CASIA_val\")"
     ],
     "language": "python",
     "metadata": {},
     "outputs": [
      {
       "output_type": "stream",
       "stream": "stdout",
       "text": [
        "Cosine Distance: 0.8829\n",
        "PCA + Cosine Distance: 0.8069\n",
        "Join Bayesian: 0.8521\n",
        "Join Bayesian: 0.8834\n"
       ]
      },
      {
       "metadata": {},
       "output_type": "display_data",
       "png": "[encoded data removed]",
       "text": [
        "<matplotlib.figure.Figure at 0x7f27f6015f90>"
       ]
      }
     ],
     "prompt_number": 15
    },
    {
     "cell_type": "code",
     "collapsed": false,
     "input": [
      "analysis.displayStats(labels, acc_lfw, roc_lfw, \"LFW\")"
     ],
     "language": "python",
     "metadata": {},
     "outputs": [
      {
       "output_type": "stream",
       "stream": "stdout",
       "text": [
        "Cosine Distance: 0.9620\n",
        "PCA + Cosine Distance: 0.9062\n",
        "Join Bayesian: 0.7547\n",
        "Join Bayesian: 0.9630\n"
       ]
      },
      {
       "metadata": {},
       "output_type": "display_data",
       "png": "[encoded data removed]",
       "text": [
        "<matplotlib.figure.Figure at 0x7f27f5f20c10>"
       ]
      }
     ],
     "prompt_number": 16
    },
    {
     "cell_type": "code",
     "collapsed": false,
     "input": [],
     "language": "python",
     "metadata": {},
     "outputs": []
    }
   ],
   "metadata": {}
  }
 ]
}