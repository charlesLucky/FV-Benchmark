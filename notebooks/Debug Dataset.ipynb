{
 "metadata": {
  "name": ""
 },
 "nbformat": 3,
 "nbformat_minor": 0,
 "worksheets": [
  {
   "cells": [
    {
     "cell_type": "code",
     "collapsed": false,
     "input": [
      "%pylab inline\n",
      "import os\n",
      "import cv2\n",
      "import startup\n",
      "import config\n",
      "from dataset.dataset import DataSet\n",
      "from algorithms.analysisframework       import AnalysisFramework\n",
      "from algorithms.distance import *\n",
      "from utils import *"
     ],
     "language": "python",
     "metadata": {},
     "outputs": [
      {
       "output_type": "stream",
       "stream": "stdout",
       "text": [
        "Populating the interactive namespace from numpy and matplotlib\n",
        "/media/blcv/drive_2TB/CODE/FV-Benchmark/lib"
       ]
      },
      {
       "output_type": "stream",
       "stream": "stdout",
       "text": [
        "\n"
       ]
      }
     ],
     "prompt_number": 1
    },
    {
     "cell_type": "code",
     "collapsed": false,
     "input": [
      "main_folder = \"/media/blcv/drive_2TB/CODE/FV-Benchmark/\"\n",
      "config_file = main_folder + \"Nets/configs_net/casia_ver_conv52_correct_felix.json\"\n",
      "config_file = parse_deep_config(config_file)"
     ],
     "language": "python",
     "metadata": {},
     "outputs": [],
     "prompt_number": 2
    },
    {
     "cell_type": "code",
     "collapsed": false,
     "input": [
      "data = DataSet(\"deep\",config_file)\n",
      "labels_train = data.loadDataClassification(\"train\")\n",
      "labels_val = data.loadDataClassification(\"val\")\n",
      "labels_ver_train = data.loadDataVerification(\"train\")\n",
      "labels_ver_val   = data.loadDataVerification(\"val\")\n",
      "features         = data.loadFeatures()\n",
      "path_data        = data.loadPathRawData()\n",
      "label_file = \"/media/blcv/drive_2TB/CODE/FV-Benchmark/DataSets/Felix/labels.txt\""
     ],
     "language": "python",
     "metadata": {},
     "outputs": [],
     "prompt_number": 6
    },
    {
     "cell_type": "code",
     "collapsed": false,
     "input": [
      "with open(label_file, 'r') as f:\n",
      "    label_file_raw = [line.strip().split(\" \") for line in f]"
     ],
     "language": "python",
     "metadata": {},
     "outputs": [],
     "prompt_number": 7
    },
    {
     "cell_type": "code",
     "collapsed": false,
     "input": [],
     "language": "python",
     "metadata": {},
     "outputs": []
    }
   ],
   "metadata": {}
  }
 ]
}