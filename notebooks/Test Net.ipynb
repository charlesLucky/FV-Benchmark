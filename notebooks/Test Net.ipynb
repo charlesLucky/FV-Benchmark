{
 "metadata": {
  "name": "",
  "signature": "sha256:53d4210c769aa3fae3cece86e9b16675aa888853c4811a17740e2ff0e830f180"
 },
 "nbformat": 3,
 "nbformat_minor": 0,
 "worksheets": [
  {
   "cells": [
    {
     "cell_type": "code",
     "collapsed": false,
     "input": [
      "import os\n",
      "import cv2\n",
      "import startup\n",
      "import config\n",
      "from dataset.dataset import DataSet\n",
      "from features.deep.test_net import *\n",
      "from utils import *"
     ],
     "language": "python",
     "metadata": {},
     "outputs": [
      {
       "output_type": "stream",
       "stream": "stdout",
       "text": [
        "/media/blcv/drive_2TB/CODE/FV-Benchmark/lib\n"
       ]
      }
     ],
     "prompt_number": 1
    },
    {
     "cell_type": "code",
     "collapsed": false,
     "input": [
      "#set local variable\n",
      "train_file = \"/media/blcv/drive_2TB/CODE/FV-Benchmark/DataSets/Felix/train.txt\"\n",
      "val_file = \"/media/blcv/drive_2TB/CODE/FV-Benchmark/DataSets/Felix/train.txt\"\n",
      "main_folder = \"/media/blcv/drive_2TB/CODE/FV-Benchmark/\"\n",
      "config_file = main_folder + \"Nets/configs_net/casia_ver_conv52_correct_felix.json\""
     ],
     "language": "python",
     "metadata": {},
     "outputs": [],
     "prompt_number": 2
    },
    {
     "cell_type": "code",
     "collapsed": false,
     "input": [
      "#test net using loaded data\n",
      "testNet(config_file)"
     ],
     "language": "python",
     "metadata": {},
     "outputs": [
      {
       "output_type": "stream",
       "stream": "stdout",
       "text": [
        "(3, 100, 100) (3, 100, 100)\n",
        "[7600 7600 7600 ..., 1201 1201 1201]"
       ]
      },
      {
       "output_type": "stream",
       "stream": "stdout",
       "text": [
        " [ 7600 11658  7600 ...,  1201  1201  3068]\n",
        "Accuracy Train:  "
       ]
      },
      {
       "output_type": "stream",
       "stream": "stdout",
       "text": [
        "0.790496920723\n",
        "Accuracy Val:  0.742755118009\n"
       ]
      }
     ],
     "prompt_number": 2
    },
    {
     "cell_type": "code",
     "collapsed": false,
     "input": [
      "#test bet using raw images\n",
      "testNetFromFile(label_file, net_file)"
     ],
     "language": "python",
     "metadata": {},
     "outputs": []
    }
   ],
   "metadata": {}
  }
 ]
}