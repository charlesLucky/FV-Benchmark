{
 "metadata": {
  "name": ""
 },
 "nbformat": 3,
 "nbformat_minor": 0,
 "worksheets": [
  {
   "cells": [
    {
     "cell_type": "code",
     "collapsed": false,
     "input": [
      "%pylab inline\n",
      "import os\n",
      "import cv2\n",
      "import startup\n",
      "import config\n",
      "from dataset.dataset import DataSet\n",
      "from algorithms.analysisframework       import AnalysisFramework\n",
      "from algorithms.distance import *\n",
      "from utils import *"
     ],
     "language": "python",
     "metadata": {},
     "outputs": [
      {
       "output_type": "stream",
       "stream": "stdout",
       "text": [
        "Populating the interactive namespace from numpy and matplotlib\n"
       ]
      }
     ],
     "prompt_number": 15
    },
    {
     "cell_type": "code",
     "collapsed": false,
     "input": [
      "main_folder = \"/media/blcv/drive_2TB/CODE/FV-Benchmark/\"\n",
      "config_file = main_folder + \"Nets/configs_net/casia_ver_conv52.json\"\n",
      "config_file = parse_deep_config(config_file)"
     ],
     "language": "python",
     "metadata": {},
     "outputs": [],
     "prompt_number": 16
    },
    {
     "cell_type": "code",
     "collapsed": false,
     "input": [
      "data = DataSet(\"deep\",config_file)\n",
      "labels_train = data.loadDataClassification(\"train\")\n",
      "labels_val = data.loadDataClassification(\"val\")\n",
      "labels_ver_train = data.loadDataVerification(\"train\")\n",
      "labels_ver_val   = data.loadDataVerification(\"val\")\n",
      "features         = data.loadFeatures().astype(np.float32)\n",
      "#load LFW data\n",
      "features_lfw, pairs_lfw = data.loadLFW()"
     ],
     "language": "python",
     "metadata": {},
     "outputs": [],
     "prompt_number": 17
    },
    {
     "cell_type": "code",
     "collapsed": false,
     "input": [
      "# from algorithms.scaler import Scaler\n",
      "# #Scaling the data\n",
      "# scaler = Scaler([0,1])\n",
      "# scaler.fit(features)\n",
      "# features = scaler.transform(features)\n",
      "# features_lfw = scaler.transform(features_lfw)"
     ],
     "language": "python",
     "metadata": {},
     "outputs": [],
     "prompt_number": 18
    },
    {
     "cell_type": "code",
     "collapsed": false,
     "input": [
      "analysis = AnalysisFramework(config_file, features)\n",
      "labels = []\n",
      "acc_train = []\n",
      "acc_val   = []\n",
      "roc_train = []\n",
      "roc_val   = []\n",
      "acc_lfw   = []\n",
      "roc_lfw   = []"
     ],
     "language": "python",
     "metadata": {},
     "outputs": [],
     "prompt_number": 19
    },
    {
     "cell_type": "code",
     "collapsed": false,
     "input": [
      "labels.append(\"Cosine Distance\")\n",
      "#cosine distance\n",
      "acc,roc = analysis.computeStatsMulti(features, labels_ver_train, distance = cosineDistance)\n",
      "acc_train.append(acc)\n",
      "roc_train.append(roc)\n",
      "acc,roc = analysis.computeStatsMulti(features, labels_ver_val, distance = cosineDistance)\n",
      "acc_val.append(acc)\n",
      "roc_val.append(roc)\n",
      "#LFW\n",
      "acc,roc = analysis.computeStatsMulti(features_lfw, pairs_lfw, distance = cosineDistance)\n",
      "acc_lfw.append(acc)\n",
      "roc_lfw.append(roc)"
     ],
     "language": "python",
     "metadata": {},
     "outputs": [
      {
       "output_type": "stream",
       "stream": "stdout",
       "text": [
        "1581450\n"
       ]
      },
      {
       "output_type": "stream",
       "stream": "stdout",
       "text": [
        "1581174\n",
        "argmax: "
       ]
      },
      {
       "output_type": "stream",
       "stream": "stdout",
       "text": [
        " 52\n",
        "Best Thres: 0.250741353541\n"
       ]
      },
      {
       "output_type": "stream",
       "stream": "stdout",
       "text": [
        "391768\n"
       ]
      },
      {
       "output_type": "stream",
       "stream": "stdout",
       "text": [
        "388080\n",
        "argmax: "
       ]
      },
      {
       "output_type": "stream",
       "stream": "stdout",
       "text": [
        " 51\n",
        "Best Thres: 0.244977434476\n"
       ]
      },
      {
       "output_type": "stream",
       "stream": "stdout",
       "text": [
        "3000\n"
       ]
      },
      {
       "output_type": "stream",
       "stream": "stdout",
       "text": [
        "3000\n",
        "argmax:  57\n",
        "Best Thres: 0.367926221905\n"
       ]
      }
     ],
     "prompt_number": 20
    },
    {
     "cell_type": "code",
     "collapsed": false,
     "input": [
      "labels.append(\"Chi^2 Distance\")\n",
      "#chi2 distance\n",
      "acc,roc = analysis.computeStatsMulti(features, labels_ver_train, distance = chi2DistanceSum, scaler = True, reset_scaler = True)\n",
      "acc_train.append(acc)\n",
      "roc_train.append(roc)\n",
      "acc,roc = analysis.computeStatsMulti(features, labels_ver_val, distance = chi2DistanceSum, scaler = True)\n",
      "acc_val.append(acc)\n",
      "roc_val.append(roc)\n",
      "#LFW\n",
      "acc,roc = analysis.computeStatsMulti(features_lfw, pairs_lfw, distance = chi2DistanceSum, scaler = True)\n",
      "acc_lfw.append(acc)\n",
      "roc_lfw.append(roc)"
     ],
     "language": "python",
     "metadata": {},
     "outputs": [
      {
       "output_type": "stream",
       "stream": "stdout",
       "text": [
        "Save algorithm:  scaler\n"
       ]
      },
      {
       "output_type": "stream",
       "stream": "stdout",
       "text": [
        "1581450\n"
       ]
      },
      {
       "output_type": "stream",
       "stream": "stdout",
       "text": [
        "1581174\n",
        "argmax: "
       ]
      },
      {
       "output_type": "stream",
       "stream": "stdout",
       "text": [
        " 68\n",
        "Best Thres: -5.75282869435\n"
       ]
      },
      {
       "output_type": "stream",
       "stream": "stdout",
       "text": [
        "391768\n"
       ]
      },
      {
       "output_type": "stream",
       "stream": "stdout",
       "text": [
        "388080\n",
        "argmax: "
       ]
      },
      {
       "output_type": "stream",
       "stream": "stdout",
       "text": [
        " 67\n",
        "Best Thres: -5.955741497\n"
       ]
      },
      {
       "output_type": "stream",
       "stream": "stdout",
       "text": [
        "3000\n"
       ]
      },
      {
       "output_type": "stream",
       "stream": "stdout",
       "text": [
        "3000\n",
        "argmax:  68\n",
        "Best Thres: -5.15387022375\n"
       ]
      }
     ],
     "prompt_number": 21
    },
    {
     "cell_type": "code",
     "collapsed": false,
     "input": [
      "labels.append(\"PCA + Cosine Distance\")\n",
      "#PCA + Cosine\n",
      "name_alg = \"pca\"\n",
      "acc,roc  = analysis.compressDescriptors(name_alg, features, labels_ver_train, dim = 100)\n",
      "acc_train.append(acc)\n",
      "roc_train.append(roc)\n",
      "acc,roc = analysis.compressDescriptorsTransform(features, labels_ver_val, name_alg)\n",
      "acc_val.append(acc)\n",
      "roc_val.append(roc)\n",
      "#LFW\n",
      "acc,roc = analysis.compressDescriptorsTransform(features_lfw, pairs_lfw, name_alg)\n",
      "acc_lfw.append(acc)\n",
      "roc_lfw.append(roc)"
     ],
     "language": "python",
     "metadata": {},
     "outputs": [
      {
       "output_type": "stream",
       "stream": "stdout",
       "text": [
        "Save algorithm:  pca\n"
       ]
      },
      {
       "output_type": "stream",
       "stream": "stdout",
       "text": [
        "1581450\n"
       ]
      },
      {
       "output_type": "stream",
       "stream": "stdout",
       "text": [
        "1581174\n",
        "argmax: "
       ]
      },
      {
       "output_type": "stream",
       "stream": "stdout",
       "text": [
        " 41\n",
        "Best Thres: 0.161953017567\n"
       ]
      },
      {
       "output_type": "stream",
       "stream": "stdout",
       "text": [
        "391768\n"
       ]
      },
      {
       "output_type": "stream",
       "stream": "stdout",
       "text": [
        "388080\n",
        "argmax: "
       ]
      },
      {
       "output_type": "stream",
       "stream": "stdout",
       "text": [
        " 42\n",
        "Best Thres: 0.171238971479\n"
       ]
      },
      {
       "output_type": "stream",
       "stream": "stdout",
       "text": [
        "3000\n"
       ]
      },
      {
       "output_type": "stream",
       "stream": "stdout",
       "text": [
        "3000\n",
        "argmax:  45\n",
        "Best Thres: 0.275131501935\n"
       ]
      }
     ],
     "prompt_number": 22
    },
    {
     "cell_type": "code",
     "collapsed": false,
     "input": [
      "labels.append(\"LDA + Cosine Distance\")\n",
      "#LDA + Cosine distance\n",
      "acc,roc  = analysis.supervisedLearningLDA((features[labels_train],data.labels[labels_train]),labels_ver_train)\n",
      "acc_train.append(acc)\n",
      "roc_train.append(roc)\n",
      "acc,roc  = analysis.supervisedLearningPredictLDA(features,labels_ver_val)\n",
      "acc_val.append(acc)\n",
      "roc_val.append(roc)\n",
      "#LFW\n",
      "acc,roc = analysis.supervisedLearningPredictLDA(features_lfw, pairs_lfw)\n",
      "acc_lfw.append(acc)\n",
      "roc_lfw.append(roc)"
     ],
     "language": "python",
     "metadata": {},
     "outputs": [
      {
       "output_type": "stream",
       "stream": "stdout",
       "text": [
        "Save algorithm:  lda\n"
       ]
      },
      {
       "output_type": "stream",
       "stream": "stderr",
       "text": [
        "/usr/local/lib/python2.7/dist-packages/sklearn/lda.py:371: UserWarning: Variables are collinear.\n",
        "  warnings.warn(\"Variables are collinear.\")\n"
       ]
      },
      {
       "output_type": "stream",
       "stream": "stdout",
       "text": [
        "1581450\n"
       ]
      },
      {
       "output_type": "stream",
       "stream": "stdout",
       "text": [
        "1581174\n",
        "argmax: "
       ]
      },
      {
       "output_type": "stream",
       "stream": "stdout",
       "text": [
        " 56\n",
        "Best Thres: 0.306808398125\n"
       ]
      },
      {
       "output_type": "stream",
       "stream": "stdout",
       "text": [
        "391768\n"
       ]
      },
      {
       "output_type": "stream",
       "stream": "stdout",
       "text": [
        "388080\n",
        "argmax: "
       ]
      },
      {
       "output_type": "stream",
       "stream": "stdout",
       "text": [
        " 56\n",
        "Best Thres: 0.286121621689\n"
       ]
      },
      {
       "output_type": "stream",
       "stream": "stdout",
       "text": [
        "3000\n"
       ]
      },
      {
       "output_type": "stream",
       "stream": "stdout",
       "text": [
        "3000\n",
        "argmax:  60\n",
        "Best Thres: 0.436319325507\n"
       ]
      }
     ],
     "prompt_number": 23
    },
    {
     "cell_type": "code",
     "collapsed": false,
     "input": [
      "labels.append(\"Join Bayesian\")\n",
      "#Join Bayesian \n",
      "acc,roc  = analysis.supervisedLearningJB((features[labels_train],data.labels[labels_train]), labels_ver_train)\n",
      "acc_train.append(acc)\n",
      "roc_train.append(roc)\n",
      "acc,roc  = analysis.supervisedLearningPredictJB(features, labels_ver_val)\n",
      "acc_val.append(acc)\n",
      "roc_val.append(roc)\n",
      "#LFW\n",
      "acc,roc = analysis.supervisedLearningPredictJB(features_lfw, pairs_lfw)\n",
      "acc_lfw.append(acc)\n",
      "roc_lfw.append(roc)"
     ],
     "language": "python",
     "metadata": {},
     "outputs": [
      {
       "output_type": "stream",
       "stream": "stdout",
       "text": [
        "Finished iteration #1 with error reduction: 1101.731260 426.650689\n"
       ]
      },
      {
       "output_type": "stream",
       "stream": "stdout",
       "text": [
        "Finished iteration #2 with error reduction: 1049.805827 274.694878\n"
       ]
      },
      {
       "output_type": "stream",
       "stream": "stdout",
       "text": [
        "Finished iteration #3 with error reduction: 7.402356 1.242833\n"
       ]
      },
      {
       "output_type": "stream",
       "stream": "stdout",
       "text": [
        "Finished iteration #4 with error reduction: 2.063022 0.216693\n"
       ]
      },
      {
       "output_type": "stream",
       "stream": "stdout",
       "text": [
        "Finished iteration #5 with error reduction: 4.846865 0.277665\n"
       ]
      },
      {
       "output_type": "stream",
       "stream": "stdout",
       "text": [
        "Save algorithm:  jb\n"
       ]
      },
      {
       "output_type": "stream",
       "stream": "stdout",
       "text": [
        "1581450\n"
       ]
      },
      {
       "output_type": "stream",
       "stream": "stdout",
       "text": [
        "1581174\n",
        "argmax: "
       ]
      },
      {
       "output_type": "stream",
       "stream": "stdout",
       "text": [
        " 52\n",
        "Best Thres: -32.9462558033\n"
       ]
      },
      {
       "output_type": "stream",
       "stream": "stdout",
       "text": [
        "391768\n"
       ]
      },
      {
       "output_type": "stream",
       "stream": "stdout",
       "text": [
        "388080\n",
        "argmax: "
       ]
      },
      {
       "output_type": "stream",
       "stream": "stdout",
       "text": [
        " 55\n",
        "Best Thres: -29.6783178249\n"
       ]
      },
      {
       "output_type": "stream",
       "stream": "stdout",
       "text": [
        "3000\n"
       ]
      },
      {
       "output_type": "stream",
       "stream": "stdout",
       "text": [
        "3000\n",
        "argmax:  60\n",
        "Best Thres: -41.9225795763\n"
       ]
      }
     ],
     "prompt_number": 24
    },
    {
     "cell_type": "code",
     "collapsed": false,
     "input": [
      "labels.append(\"SVM + Chi^2\")\n",
      "#SVM on output of Chi^2 distance\n",
      "acc,roc  = analysis.supervisedLearningSVM((features, labels_ver_train), chi2Distance)\n",
      "acc_train.append(acc)\n",
      "roc_train.append(roc)\n",
      "acc,roc  = analysis.supervisedLearningPredictSVM(features,labels_ver_val)\n",
      "acc_val.append(acc)\n",
      "roc_val.append(roc)\n",
      "#LFW\n",
      "acc,roc = analysis.supervisedLearningPredictSVM(features_lfw, pairs_lfw)\n",
      "acc_lfw.append(acc)\n",
      "roc_lfw.append(roc)"
     ],
     "language": "python",
     "metadata": {},
     "outputs": [
      {
       "output_type": "stream",
       "stream": "stdout",
       "text": [
        "1581450\n"
       ]
      },
      {
       "output_type": "stream",
       "stream": "stdout",
       "text": [
        "1581174\n",
        "Save algorithm: "
       ]
      },
      {
       "output_type": "stream",
       "stream": "stdout",
       "text": [
        " svm\n"
       ]
      },
      {
       "output_type": "stream",
       "stream": "stdout",
       "text": [
        "1581450\n"
       ]
      },
      {
       "output_type": "stream",
       "stream": "stdout",
       "text": [
        "1581174\n",
        "argmax: "
       ]
      },
      {
       "output_type": "stream",
       "stream": "stdout",
       "text": [
        " 68\n",
        "Best Thres: 0.0565433336888\n"
       ]
      },
      {
       "output_type": "stream",
       "stream": "stdout",
       "text": [
        "391768\n"
       ]
      },
      {
       "output_type": "stream",
       "stream": "stdout",
       "text": [
        "388080\n",
        "argmax: "
       ]
      },
      {
       "output_type": "stream",
       "stream": "stdout",
       "text": [
        " 67\n",
        "Best Thres: -0.0726136088425\n"
       ]
      },
      {
       "output_type": "stream",
       "stream": "stdout",
       "text": [
        "3000\n"
       ]
      },
      {
       "output_type": "stream",
       "stream": "stdout",
       "text": [
        "3000\n",
        "argmax:  69\n",
        "Best Thres: 0.706498429407\n"
       ]
      }
     ],
     "prompt_number": 25
    },
    {
     "cell_type": "code",
     "collapsed": false,
     "input": [
      "analysis.displayStats(labels, acc_train, roc_train, \"CASIA_train_original\")"
     ],
     "language": "python",
     "metadata": {},
     "outputs": [
      {
       "output_type": "stream",
       "stream": "stdout",
       "text": [
        "Cosine Distance: 0.9292\n",
        "Chi^2 Distance: 0.9271\n",
        "PCA + Cosine Distance: 0.8940\n",
        "LDA + Cosine Distance: 0.9195\n",
        "Join Bayesian: 0.9153\n",
        "SVM + Chi^2: 0.9287\n"
       ]
      },
      {
       "metadata": {},
       "output_type": "display_data",
       "png": "[encoded data removed]",
       "text": [
        "<matplotlib.figure.Figure at 0x7fbfe86fe4d0>"
       ]
      }
     ],
     "prompt_number": 26
    },
    {
     "cell_type": "code",
     "collapsed": false,
     "input": [
      "analysis.displayStats(labels, acc_val, roc_val, \"CASIA_val_original\")"
     ],
     "language": "python",
     "metadata": {},
     "outputs": [
      {
       "output_type": "stream",
       "stream": "stdout",
       "text": [
        "Cosine Distance: 0.9005\n",
        "Chi^2 Distance: 0.8948\n",
        "PCA + Cosine Distance: 0.8732\n",
        "LDA + Cosine Distance: 0.8948\n",
        "Join Bayesian: 0.8926\n",
        "SVM + Chi^2: 0.8970\n"
       ]
      },
      {
       "metadata": {},
       "output_type": "display_data",
       "png": "[encoded data removed]",
       "text": [
        "<matplotlib.figure.Figure at 0x7fbfe86fee50>"
       ]
      }
     ],
     "prompt_number": 27
    },
    {
     "cell_type": "code",
     "collapsed": false,
     "input": [
      "analysis.displayStats(labels, acc_lfw, roc_lfw, \"LFW_original\")"
     ],
     "language": "python",
     "metadata": {},
     "outputs": [
      {
       "output_type": "stream",
       "stream": "stdout",
       "text": [
        "Cosine Distance: 0.9620\n",
        "Chi^2 Distance: 0.9628\n",
        "PCA + Cosine Distance: 0.9465\n",
        "LDA + Cosine Distance: 0.9515\n",
        "Join Bayesian: 0.9193\n",
        "SVM + Chi^2: 0.9625\n"
       ]
      },
      {
       "metadata": {},
       "output_type": "display_data",
       "png": "[encoded data removed]",
       "text": [
        "<matplotlib.figure.Figure at 0x7fbf995afd50>"
       ]
      }
     ],
     "prompt_number": 28
    },
    {
     "cell_type": "code",
     "collapsed": false,
     "input": [],
     "language": "python",
     "metadata": {},
     "outputs": [],
     "prompt_number": 28
    }
   ],
   "metadata": {}
  }
 ]
}