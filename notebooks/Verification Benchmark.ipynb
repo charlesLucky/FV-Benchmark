{
 "metadata": {
  "name": ""
 },
 "nbformat": 3,
 "nbformat_minor": 0,
 "worksheets": [
  {
   "cells": [
    {
     "cell_type": "code",
     "collapsed": false,
     "input": [
      "%pylab inline\n",
      "import os\n",
      "import cv2\n",
      "import startup\n",
      "import config\n",
      "from dataset.dataset import DataSet\n",
      "from algorithms.analysisframework       import AnalysisFramework\n",
      "from algorithms.distance import *\n",
      "from utils import *"
     ],
     "language": "python",
     "metadata": {},
     "outputs": [
      {
       "output_type": "stream",
       "stream": "stdout",
       "text": [
        "Populating the interactive namespace from numpy and matplotlib\n",
        "/media/blcv/drive_2TB/CODE/FV-Benchmark/lib"
       ]
      },
      {
       "output_type": "stream",
       "stream": "stdout",
       "text": [
        "\n"
       ]
      }
     ],
     "prompt_number": 1
    },
    {
     "cell_type": "code",
     "collapsed": false,
     "input": [
      "main_folder = \"/media/blcv/drive_2TB/CODE/FV-Benchmark/\"\n",
      "config_file = main_folder + \"Nets/configs_net/casia_ver_conv52_correct_felix.json\"\n",
      "config_file = parse_deep_config(config_file)"
     ],
     "language": "python",
     "metadata": {},
     "outputs": [],
     "prompt_number": 2
    },
    {
     "cell_type": "code",
     "collapsed": false,
     "input": [
      "data = DataSet(\"deep\",config_file)\n",
      "labels_train = data.loadDataClassification(\"train\")\n",
      "labels_val = data.loadDataClassification(\"val\")\n",
      "labels_ver_train = data.loadDataVerification(\"train\")\n",
      "labels_ver_val   = data.loadDataVerification(\"val\")\n",
      "features         = data.loadFeatures().astype(np.float32)\n",
      "#load LFW data\n",
      "features_lfw, pairs_lfw = data.loadLFW()"
     ],
     "language": "python",
     "metadata": {},
     "outputs": [],
     "prompt_number": 3
    },
    {
     "cell_type": "code",
     "collapsed": false,
     "input": [
      "analysis = AnalysisFramework(config_file, features)\n",
      "labels = []\n",
      "acc_train = []\n",
      "acc_val   = []\n",
      "roc_train = []\n",
      "roc_val   = []\n",
      "acc_lfw   = []\n",
      "roc_lfw   = []"
     ],
     "language": "python",
     "metadata": {},
     "outputs": [],
     "prompt_number": 4
    },
    {
     "cell_type": "code",
     "collapsed": false,
     "input": [
      "labels.append(\"Cosine Distance\")\n",
      "#cosine distance\n",
      "acc,roc = analysis.computeStatsMulti(features, labels_ver_train, distance = cosineDistance)\n",
      "acc_train.append(acc)\n",
      "roc_train.append(roc)\n",
      "acc,roc = analysis.computeStatsMulti(features, labels_ver_val, distance = cosineDistance)\n",
      "acc_val.append(acc)\n",
      "roc_val.append(roc)\n",
      "#LFW\n",
      "acc,roc = analysis.computeStatsMulti(features_lfw, pairs_lfw, distance = cosineDistance)\n",
      "acc_lfw.append(acc)\n",
      "roc_lfw.append(roc)"
     ],
     "language": "python",
     "metadata": {},
     "outputs": [
      {
       "output_type": "stream",
       "stream": "stdout",
       "text": [
        "2530209\n"
       ]
      },
      {
       "output_type": "stream",
       "stream": "stdout",
       "text": [
        "2529361\n",
        "argmax: "
       ]
      },
      {
       "output_type": "stream",
       "stream": "stdout",
       "text": [
        " 52\n",
        "Best Thres: 0.247767164852\n"
       ]
      },
      {
       "output_type": "stream",
       "stream": "stdout",
       "text": [
        "260331\n"
       ]
      },
      {
       "output_type": "stream",
       "stream": "stdout",
       "text": [
        "240880\n",
        "argmax: "
       ]
      },
      {
       "output_type": "stream",
       "stream": "stdout",
       "text": [
        " 52\n",
        "Best Thres: 0.265662329968\n"
       ]
      },
      {
       "output_type": "stream",
       "stream": "stdout",
       "text": [
        "3000\n"
       ]
      },
      {
       "output_type": "stream",
       "stream": "stdout",
       "text": [
        "3000\n",
        "argmax:  57\n",
        "Best Thres: 0.373420756875\n"
       ]
      }
     ],
     "prompt_number": 5
    },
    {
     "cell_type": "code",
     "collapsed": false,
     "input": [
      "print acc_train, acc_val, acc_lfw"
     ],
     "language": "python",
     "metadata": {},
     "outputs": [
      {
       "output_type": "stream",
       "stream": "stdout",
       "text": [
        "[0.91997771667193851] [0.91990575686466625] [0.97033333333333327]\n"
       ]
      }
     ],
     "prompt_number": 6
    },
    {
     "cell_type": "code",
     "collapsed": false,
     "input": [
      "labels.append(\"Chi^2 Distance\")\n",
      "#chi2 distance\n",
      "acc,roc = analysis.computeStatsMulti(features, labels_ver_train, distance = chi2DistanceSum, scaler = True, reset_scaler = True)\n",
      "acc_train.append(acc)\n",
      "roc_train.append(roc)\n",
      "acc,roc = analysis.computeStatsMulti(features, labels_ver_val, distance = chi2DistanceSum, scaler = True)\n",
      "acc_val.append(acc)\n",
      "roc_val.append(roc)\n",
      "#LFW\n",
      "acc,roc = analysis.computeStatsMulti(features_lfw, pairs_lfw, distance = chi2DistanceSum, scaler = True)\n",
      "acc_lfw.append(acc)\n",
      "roc_lfw.append(roc)"
     ],
     "language": "python",
     "metadata": {},
     "outputs": [
      {
       "output_type": "stream",
       "stream": "stdout",
       "text": [
        "Save algorithm:  scaler\n"
       ]
      },
      {
       "output_type": "stream",
       "stream": "stdout",
       "text": [
        "2530209\n"
       ]
      },
      {
       "output_type": "stream",
       "stream": "stdout",
       "text": [
        "2529361\n",
        "argmax: "
       ]
      },
      {
       "output_type": "stream",
       "stream": "stdout",
       "text": [
        " 68\n",
        "Best Thres: -5.57765151515\n"
       ]
      },
      {
       "output_type": "stream",
       "stream": "stdout",
       "text": [
        "260331\n"
       ]
      },
      {
       "output_type": "stream",
       "stream": "stdout",
       "text": [
        "240880\n",
        "argmax: "
       ]
      },
      {
       "output_type": "stream",
       "stream": "stdout",
       "text": [
        " 68\n",
        "Best Thres: -5.56297348485\n"
       ]
      },
      {
       "output_type": "stream",
       "stream": "stdout",
       "text": [
        "3000\n"
       ]
      },
      {
       "output_type": "stream",
       "stream": "stdout",
       "text": [
        "3000\n",
        "argmax:  64\n",
        "Best Thres: -5.24178306503\n"
       ]
      }
     ],
     "prompt_number": 7
    },
    {
     "cell_type": "code",
     "collapsed": false,
     "input": [
      "labels.append(\"PCA + Cosine Distance\")\n",
      "#PCA + Cosine\n",
      "name_alg = \"pca\"\n",
      "acc,roc  = analysis.compressDescriptors(name_alg, features, labels_ver_train, dim = 100)\n",
      "acc_train.append(acc)\n",
      "roc_train.append(roc)\n",
      "acc,roc = analysis.compressDescriptorsTransform(features, labels_ver_val, name_alg)\n",
      "acc_val.append(acc)\n",
      "roc_val.append(roc)\n",
      "#LFW\n",
      "acc,roc = analysis.compressDescriptorsTransform(features_lfw, pairs_lfw, name_alg)\n",
      "acc_lfw.append(acc)\n",
      "roc_lfw.append(roc)"
     ],
     "language": "python",
     "metadata": {},
     "outputs": [
      {
       "output_type": "stream",
       "stream": "stdout",
       "text": [
        "Save algorithm:  pca\n"
       ]
      },
      {
       "output_type": "stream",
       "stream": "stdout",
       "text": [
        "2530209\n"
       ]
      },
      {
       "output_type": "stream",
       "stream": "stdout",
       "text": [
        "2529361\n",
        "argmax: "
       ]
      },
      {
       "output_type": "stream",
       "stream": "stdout",
       "text": [
        " 42\n",
        "Best Thres: 0.14939943822\n"
       ]
      },
      {
       "output_type": "stream",
       "stream": "stdout",
       "text": [
        "260331\n"
       ]
      },
      {
       "output_type": "stream",
       "stream": "stdout",
       "text": [
        "240880\n",
        "argmax: "
       ]
      },
      {
       "output_type": "stream",
       "stream": "stdout",
       "text": [
        " 42\n",
        "Best Thres: 0.18467843196\n"
       ]
      },
      {
       "output_type": "stream",
       "stream": "stdout",
       "text": [
        "3000\n"
       ]
      },
      {
       "output_type": "stream",
       "stream": "stdout",
       "text": [
        "3000\n",
        "argmax:  44\n",
        "Best Thres: 0.243290104849\n"
       ]
      }
     ],
     "prompt_number": 8
    },
    {
     "cell_type": "code",
     "collapsed": false,
     "input": [
      "labels.append(\"LDA + Cosine Distance\")\n",
      "#LDA + Cosine distance\n",
      "acc,roc  = analysis.supervisedLearningLDA((features[labels_train],data.labels[labels_train]),labels_ver_train)\n",
      "acc_train.append(acc)\n",
      "roc_train.append(roc)\n",
      "acc,roc  = analysis.supervisedLearningPredictLDA(features,labels_ver_train)\n",
      "acc_val.append(acc)\n",
      "roc_val.append(roc)\n",
      "#LFW\n",
      "acc,roc = analysis.supervisedLearningPredictLDA(features_lfw, pairs_lfw)\n",
      "acc_lfw.append(acc)\n",
      "roc_lfw.append(roc)"
     ],
     "language": "python",
     "metadata": {},
     "outputs": [
      {
       "output_type": "stream",
       "stream": "stdout",
       "text": [
        "Save algorithm:  lda\n"
       ]
      },
      {
       "output_type": "stream",
       "stream": "stdout",
       "text": [
        "2530209\n"
       ]
      },
      {
       "output_type": "stream",
       "stream": "stdout",
       "text": [
        "2529361\n",
        "argmax: "
       ]
      },
      {
       "output_type": "stream",
       "stream": "stdout",
       "text": [
        " 70\n",
        "Best Thres: 0.462668300836\n"
       ]
      },
      {
       "output_type": "stream",
       "stream": "stdout",
       "text": [
        "2530209\n"
       ]
      },
      {
       "output_type": "stream",
       "stream": "stdout",
       "text": [
        "2529361\n",
        "argmax: "
       ]
      },
      {
       "output_type": "stream",
       "stream": "stdout",
       "text": [
        " 70\n",
        "Best Thres: 0.462668300836\n"
       ]
      },
      {
       "output_type": "stream",
       "stream": "stdout",
       "text": [
        "3000\n"
       ]
      },
      {
       "output_type": "stream",
       "stream": "stdout",
       "text": [
        "3000\n",
        "argmax:  74\n",
        "Best Thres: 0.559496055531\n"
       ]
      }
     ],
     "prompt_number": 9
    },
    {
     "cell_type": "code",
     "collapsed": false,
     "input": [
      "labels.append(\"Join Bayes\")\n",
      "#Join Bayes \n",
      "#LDA + Cosine distance\n",
      "acc,roc  = analysis.supervisedLearningJB((features[labels_train],data.labels[labels_train]),labels_ver_train)\n",
      "acc_train.append(acc)\n",
      "roc_train.append(roc)\n",
      "acc,roc  = analysis.supervisedLearningPredictJB(features,labels_ver_train)\n",
      "acc_val.append(acc)\n",
      "roc_val.append(roc)\n",
      "#LFW\n",
      "acc,roc = analysis.supervisedLearningPredictJB(features_lfw, pairs_lfw)\n",
      "acc_lfw.append(acc)\n",
      "roc_lfw.append(roc)"
     ],
     "language": "python",
     "metadata": {},
     "outputs": [
      {
       "ename": "TypeError",
       "evalue": "array type float16 is unsupported in linalg",
       "output_type": "pyerr",
       "traceback": [
        "\u001b[0;31m---------------------------------------------------------------------------\u001b[0m\n\u001b[0;31mTypeError\u001b[0m                                 Traceback (most recent call last)",
        "\u001b[0;32m<ipython-input-10-7dcf7c9d855d>\u001b[0m in \u001b[0;36m<module>\u001b[0;34m()\u001b[0m\n\u001b[1;32m      2\u001b[0m \u001b[0;31m#Join Bayes\u001b[0m\u001b[0;34m\u001b[0m\u001b[0;34m\u001b[0m\u001b[0m\n\u001b[1;32m      3\u001b[0m \u001b[0;31m#LDA + Cosine distance\u001b[0m\u001b[0;34m\u001b[0m\u001b[0;34m\u001b[0m\u001b[0m\n\u001b[0;32m----> 4\u001b[0;31m \u001b[0macc\u001b[0m\u001b[0;34m,\u001b[0m\u001b[0mroc\u001b[0m  \u001b[0;34m=\u001b[0m \u001b[0manalysis\u001b[0m\u001b[0;34m.\u001b[0m\u001b[0msupervisedLearningJB\u001b[0m\u001b[0;34m(\u001b[0m\u001b[0;34m(\u001b[0m\u001b[0mfeatures\u001b[0m\u001b[0;34m[\u001b[0m\u001b[0mlabels_train\u001b[0m\u001b[0;34m]\u001b[0m\u001b[0;34m,\u001b[0m\u001b[0mdata\u001b[0m\u001b[0;34m.\u001b[0m\u001b[0mlabels\u001b[0m\u001b[0;34m[\u001b[0m\u001b[0mlabels_train\u001b[0m\u001b[0;34m]\u001b[0m\u001b[0;34m)\u001b[0m\u001b[0;34m,\u001b[0m\u001b[0mlabels_ver_train\u001b[0m\u001b[0;34m)\u001b[0m\u001b[0;34m\u001b[0m\u001b[0m\n\u001b[0m\u001b[1;32m      5\u001b[0m \u001b[0macc_train\u001b[0m\u001b[0;34m.\u001b[0m\u001b[0mappend\u001b[0m\u001b[0;34m(\u001b[0m\u001b[0macc\u001b[0m\u001b[0;34m)\u001b[0m\u001b[0;34m\u001b[0m\u001b[0m\n\u001b[1;32m      6\u001b[0m \u001b[0mroc_train\u001b[0m\u001b[0;34m.\u001b[0m\u001b[0mappend\u001b[0m\u001b[0;34m(\u001b[0m\u001b[0mroc\u001b[0m\u001b[0;34m)\u001b[0m\u001b[0;34m\u001b[0m\u001b[0m\n",
        "\u001b[0;32m/media/blcv/drive_2TB/CODE/FV-Benchmark/lib/algorithms/analysisframework.pyc\u001b[0m in \u001b[0;36msupervisedLearningJB\u001b[0;34m(self, training_data, ground_truth)\u001b[0m\n\u001b[1;32m    122\u001b[0m     \u001b[0;32mdef\u001b[0m \u001b[0msupervisedLearningJB\u001b[0m\u001b[0;34m(\u001b[0m\u001b[0mself\u001b[0m\u001b[0;34m,\u001b[0m \u001b[0mtraining_data\u001b[0m\u001b[0;34m,\u001b[0m \u001b[0mground_truth\u001b[0m\u001b[0;34m)\u001b[0m\u001b[0;34m:\u001b[0m\u001b[0;34m\u001b[0m\u001b[0m\n\u001b[1;32m    123\u001b[0m       \u001b[0mself\u001b[0m\u001b[0;34m.\u001b[0m\u001b[0msupervised_learning\u001b[0m \u001b[0;34m=\u001b[0m \u001b[0mJointBayesian\u001b[0m\u001b[0;34m(\u001b[0m\u001b[0;34m)\u001b[0m\u001b[0;34m\u001b[0m\u001b[0m\n\u001b[0;32m--> 124\u001b[0;31m       \u001b[0mself\u001b[0m\u001b[0;34m.\u001b[0m\u001b[0msupervised_learning\u001b[0m\u001b[0;34m.\u001b[0m\u001b[0mfit\u001b[0m\u001b[0;34m(\u001b[0m\u001b[0mtraining_data\u001b[0m\u001b[0;34m[\u001b[0m\u001b[0;36m0\u001b[0m\u001b[0;34m]\u001b[0m\u001b[0;34m,\u001b[0m \u001b[0mtraining_data\u001b[0m\u001b[0;34m[\u001b[0m\u001b[0;36m1\u001b[0m\u001b[0;34m]\u001b[0m\u001b[0;34m)\u001b[0m\u001b[0;34m\u001b[0m\u001b[0m\n\u001b[0m\u001b[1;32m    125\u001b[0m       \u001b[0mself\u001b[0m\u001b[0;34m.\u001b[0m\u001b[0msaveSupervisedAlgorithm\u001b[0m\u001b[0;34m(\u001b[0m\u001b[0;34m'jb'\u001b[0m\u001b[0;34m,\u001b[0m \u001b[0mself\u001b[0m\u001b[0;34m.\u001b[0m\u001b[0msupervised_learning\u001b[0m\u001b[0;34m)\u001b[0m\u001b[0;34m\u001b[0m\u001b[0m\n\u001b[1;32m    126\u001b[0m       \u001b[0;32mreturn\u001b[0m \u001b[0mself\u001b[0m\u001b[0;34m.\u001b[0m\u001b[0mcomputeStatsMulti\u001b[0m\u001b[0;34m(\u001b[0m\u001b[0mself\u001b[0m\u001b[0;34m.\u001b[0m\u001b[0mdescriptors\u001b[0m\u001b[0;34m,\u001b[0m \u001b[0mground_truth\u001b[0m\u001b[0;34m,\u001b[0m \u001b[0mdistance\u001b[0m \u001b[0;34m=\u001b[0m \u001b[0mself\u001b[0m\u001b[0;34m.\u001b[0m\u001b[0msupervised_learning\u001b[0m\u001b[0;34m.\u001b[0m\u001b[0mmesureDistance\u001b[0m\u001b[0;34m)\u001b[0m\u001b[0;34m\u001b[0m\u001b[0m\n",
        "\u001b[0;32m/media/blcv/drive_2TB/CODE/FV-Benchmark/lib/algorithms/learning/joint_bayesian.pyc\u001b[0m in \u001b[0;36mfit\u001b[0;34m(self, X, y)\u001b[0m\n\u001b[1;32m     24\u001b[0m         \u001b[0merror_S_mu\u001b[0m \u001b[0;34m=\u001b[0m \u001b[0merror_S_eps\u001b[0m \u001b[0;34m=\u001b[0m \u001b[0;36m1e20\u001b[0m\u001b[0;34m\u001b[0m\u001b[0m\n\u001b[1;32m     25\u001b[0m         \u001b[0;32mwhile\u001b[0m \u001b[0;32mnot\u001b[0m \u001b[0mconverged\u001b[0m\u001b[0;34m:\u001b[0m\u001b[0;34m\u001b[0m\u001b[0m\n\u001b[0;32m---> 26\u001b[0;31m             \u001b[0mF\u001b[0m \u001b[0;34m=\u001b[0m \u001b[0mnp\u001b[0m\u001b[0;34m.\u001b[0m\u001b[0mlinalg\u001b[0m\u001b[0;34m.\u001b[0m\u001b[0minv\u001b[0m\u001b[0;34m(\u001b[0m\u001b[0mS_eps\u001b[0m\u001b[0;34m)\u001b[0m\u001b[0;34m\u001b[0m\u001b[0m\n\u001b[0m\u001b[1;32m     27\u001b[0m             \u001b[0mG_0\u001b[0m \u001b[0;34m=\u001b[0m \u001b[0;34m-\u001b[0m\u001b[0mS_mu\u001b[0m\u001b[0;34m.\u001b[0m\u001b[0mdot\u001b[0m\u001b[0;34m(\u001b[0m\u001b[0mF\u001b[0m\u001b[0;34m)\u001b[0m\u001b[0;34m\u001b[0m\u001b[0m\n\u001b[1;32m     28\u001b[0m             \u001b[0mmu\u001b[0m \u001b[0;34m=\u001b[0m \u001b[0;34m[\u001b[0m\u001b[0;34m]\u001b[0m\u001b[0;34m\u001b[0m\u001b[0m\n",
        "\u001b[0;32m/usr/local/lib/python2.7/dist-packages/numpy/linalg/linalg.pyc\u001b[0m in \u001b[0;36minv\u001b[0;34m(a)\u001b[0m\n\u001b[1;32m    510\u001b[0m     \u001b[0m_assertRankAtLeast2\u001b[0m\u001b[0;34m(\u001b[0m\u001b[0ma\u001b[0m\u001b[0;34m)\u001b[0m\u001b[0;34m\u001b[0m\u001b[0m\n\u001b[1;32m    511\u001b[0m     \u001b[0m_assertNdSquareness\u001b[0m\u001b[0;34m(\u001b[0m\u001b[0ma\u001b[0m\u001b[0;34m)\u001b[0m\u001b[0;34m\u001b[0m\u001b[0m\n\u001b[0;32m--> 512\u001b[0;31m     \u001b[0mt\u001b[0m\u001b[0;34m,\u001b[0m \u001b[0mresult_t\u001b[0m \u001b[0;34m=\u001b[0m \u001b[0m_commonType\u001b[0m\u001b[0;34m(\u001b[0m\u001b[0ma\u001b[0m\u001b[0;34m)\u001b[0m\u001b[0;34m\u001b[0m\u001b[0m\n\u001b[0m\u001b[1;32m    513\u001b[0m \u001b[0;34m\u001b[0m\u001b[0m\n\u001b[1;32m    514\u001b[0m     \u001b[0;32mif\u001b[0m \u001b[0ma\u001b[0m\u001b[0;34m.\u001b[0m\u001b[0mshape\u001b[0m\u001b[0;34m[\u001b[0m\u001b[0;34m-\u001b[0m\u001b[0;36m1\u001b[0m\u001b[0;34m]\u001b[0m \u001b[0;34m==\u001b[0m \u001b[0;36m0\u001b[0m\u001b[0;34m:\u001b[0m\u001b[0;34m\u001b[0m\u001b[0m\n",
        "\u001b[0;32m/usr/local/lib/python2.7/dist-packages/numpy/linalg/linalg.pyc\u001b[0m in \u001b[0;36m_commonType\u001b[0;34m(*arrays)\u001b[0m\n\u001b[1;32m    149\u001b[0m                 \u001b[0;31m# unsupported inexact scalar\u001b[0m\u001b[0;34m\u001b[0m\u001b[0;34m\u001b[0m\u001b[0m\n\u001b[1;32m    150\u001b[0m                 raise TypeError(\"array type %s is unsupported in linalg\" %\n\u001b[0;32m--> 151\u001b[0;31m                         (a.dtype.name,))\n\u001b[0m\u001b[1;32m    152\u001b[0m         \u001b[0;32melse\u001b[0m\u001b[0;34m:\u001b[0m\u001b[0;34m\u001b[0m\u001b[0m\n\u001b[1;32m    153\u001b[0m             \u001b[0mrt\u001b[0m \u001b[0;34m=\u001b[0m \u001b[0mdouble\u001b[0m\u001b[0;34m\u001b[0m\u001b[0m\n",
        "\u001b[0;31mTypeError\u001b[0m: array type float16 is unsupported in linalg"
       ]
      },
      {
       "output_type": "stream",
       "stream": "stderr",
       "text": [
        "/media/blcv/drive_2TB/CODE/FV-Benchmark/lib/algorithms/learning/joint_bayesian.py:76: RuntimeWarning: invalid value encountered in divide\n",
        "  s_w += np.dot(Xgc.T, Xgc) / (len(Xg) - 1)\n"
       ]
      }
     ],
     "prompt_number": 10
    },
    {
     "cell_type": "code",
     "collapsed": false,
     "input": [
      "labels.append(\"SVM + Chi^2\")\n",
      "#SVM on output of Chi^2 distance\n",
      "acc,roc  = analysis.supervisedLearningSVM((features, labels_ver_train), chi2Distance)\n",
      "acc_train.append(acc)\n",
      "roc_train.append(roc)\n",
      "acc,roc  = analysis.supervisedLearningPredictSVM(features,labels_ver_train)\n",
      "acc_val.append(acc)\n",
      "roc_val.append(roc)\n",
      "#LFW\n",
      "acc,roc = analysis.supervisedLearningPredictSVM(features_lfw, pairs_lfw)\n",
      "acc_lfw.append(acc)\n",
      "roc_lfw.append(roc)"
     ],
     "language": "python",
     "metadata": {},
     "outputs": [
      {
       "output_type": "stream",
       "stream": "stdout",
       "text": [
        "2530209\n"
       ]
      },
      {
       "output_type": "stream",
       "stream": "stdout",
       "text": [
        "2529361\n",
        "Save algorithm: "
       ]
      },
      {
       "output_type": "stream",
       "stream": "stdout",
       "text": [
        " svm\n"
       ]
      },
      {
       "output_type": "stream",
       "stream": "stdout",
       "text": [
        "2530209\n"
       ]
      },
      {
       "output_type": "stream",
       "stream": "stdout",
       "text": [
        "2529361\n",
        "argmax: "
       ]
      },
      {
       "output_type": "stream",
       "stream": "stdout",
       "text": [
        " 68\n",
        "Best Thres: 0.0945726176664\n"
       ]
      },
      {
       "output_type": "stream",
       "stream": "stdout",
       "text": [
        "2530209\n"
       ]
      },
      {
       "output_type": "stream",
       "stream": "stdout",
       "text": [
        "2529361\n",
        "argmax: "
       ]
      },
      {
       "output_type": "stream",
       "stream": "stdout",
       "text": [
        " 68\n",
        "Best Thres: 0.0945726176664\n"
       ]
      },
      {
       "output_type": "stream",
       "stream": "stdout",
       "text": [
        "3000\n"
       ]
      },
      {
       "output_type": "stream",
       "stream": "stdout",
       "text": [
        "3000\n",
        "argmax:  65\n",
        "Best Thres: 0.497021704554\n"
       ]
      }
     ],
     "prompt_number": 11
    },
    {
     "cell_type": "code",
     "collapsed": false,
     "input": [
      "analysis.displayStats(labels, acc_train, roc_train, \"CASIA_train\")"
     ],
     "language": "python",
     "metadata": {},
     "outputs": [
      {
       "output_type": "stream",
       "stream": "stdout",
       "text": [
        "Cosine Distance: 0.9200\n",
        "Chi^2 Distance: 0.9179\n",
        "PCA + Cosine Distance: 0.8887\n",
        "LDA + Cosine Distance: 0.8576\n",
        "Join Bayes: 0.9199\n"
       ]
      },
      {
       "metadata": {},
       "output_type": "display_data",
       "png": "[encoded data removed]",
       "text": [
        "<matplotlib.figure.Figure at 0x7f68e0509450>"
       ]
      }
     ],
     "prompt_number": 12
    },
    {
     "cell_type": "code",
     "collapsed": false,
     "input": [
      "analysis.displayStats(labels, acc_val, roc_val, \"CASIA_val\")"
     ],
     "language": "python",
     "metadata": {},
     "outputs": [
      {
       "output_type": "stream",
       "stream": "stdout",
       "text": [
        "Cosine Distance: 0.9199\n",
        "Chi^2 Distance: 0.9110\n",
        "PCA + Cosine Distance: 0.8986\n",
        "LDA + Cosine Distance: 0.8576\n",
        "Join Bayes: 0.9199\n"
       ]
      },
      {
       "metadata": {},
       "output_type": "display_data",
       "png": "[encoded data removed]",
       "text": [
        "<matplotlib.figure.Figure at 0x7f68de63e610>"
       ]
      }
     ],
     "prompt_number": 13
    },
    {
     "cell_type": "code",
     "collapsed": false,
     "input": [
      "analysis.displayStats(labels, acc_lfw, roc_lfw, \"LFW\")"
     ],
     "language": "python",
     "metadata": {},
     "outputs": [
      {
       "output_type": "stream",
       "stream": "stdout",
       "text": [
        "Cosine Distance: 0.9703\n",
        "Chi^2 Distance: 0.9698\n",
        "PCA + Cosine Distance: 0.9575\n",
        "LDA + Cosine Distance: 0.9197\n",
        "Join Bayes: 0.9692\n"
       ]
      },
      {
       "metadata": {},
       "output_type": "display_data",
       "png": "[encoded data removed]",
       "text": [
        "<matplotlib.figure.Figure at 0x7f68de5a6c10>"
       ]
      }
     ],
     "prompt_number": 14
    },
    {
     "cell_type": "code",
     "collapsed": false,
     "input": [],
     "language": "python",
     "metadata": {},
     "outputs": []
    }
   ],
   "metadata": {}
  }
 ]
}