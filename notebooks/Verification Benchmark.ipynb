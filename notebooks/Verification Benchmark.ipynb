{
 "metadata": {
  "name": ""
 },
 "nbformat": 3,
 "nbformat_minor": 0,
 "worksheets": [
  {
   "cells": [
    {
     "cell_type": "code",
     "collapsed": false,
     "input": [
      "import os\n",
      "import cv2\n",
      "import startup\n",
      "import config\n",
      "from dataset.dataset import DataSet\n",
      "from algorithms.analysisframework       import AnalysisFramework\n",
      "from algorithms.distance import *\n",
      "from utils import *"
     ],
     "language": "python",
     "metadata": {},
     "outputs": [
      {
       "output_type": "stream",
       "stream": "stdout",
       "text": [
        "/media/blcv/drive_2TB/CODE/FV-Benchmark/lib\n"
       ]
      }
     ],
     "prompt_number": 1
    },
    {
     "cell_type": "code",
     "collapsed": false,
     "input": [
      "main_folder = \"/media/blcv/drive_2TB/CODE/FV-Benchmark/\"\n",
      "config_file = main_folder + \"Nets/configs_net/casia_ver_conv52.json\"\n",
      "config_file = parse_deep_config(config_file)"
     ],
     "language": "python",
     "metadata": {},
     "outputs": [],
     "prompt_number": 2
    },
    {
     "cell_type": "code",
     "collapsed": false,
     "input": [
      "data = DataSet(\"deep\",config_file)\n",
      "labels_train = data.loadDataClassification(\"train\")\n",
      "labels_val = data.loadDataClassification(\"val\")\n",
      "labels_ver_train = data.loadDataVerification(\"train\")\n",
      "labels_ver_val   = data.loadDataVerification(\"val\")\n",
      "features         = data.loadFeatures()\n",
      "#load LFW data\n",
      "features_lfw, pairs_lfw = data.loadLFW()"
     ],
     "language": "python",
     "metadata": {},
     "outputs": [],
     "prompt_number": 3
    },
    {
     "cell_type": "code",
     "collapsed": false,
     "input": [
      "analysis = AnalysisFramework(config_file, features)\n",
      "labels = []\n",
      "acc_train = []\n",
      "acc_val   = []\n",
      "roc_train = []\n",
      "roc_val   = []\n",
      "acc_lfw   = []\n",
      "roc_lfw   = []"
     ],
     "language": "python",
     "metadata": {},
     "outputs": [],
     "prompt_number": 4
    },
    {
     "cell_type": "code",
     "collapsed": false,
     "input": [
      "labels.append(\"Cosine Distance\")\n",
      "#cosine distance\n",
      "acc,roc = analysis.computeStatsMulti(features, labels_ver_train, distance = cosineDistance)\n",
      "acc_train.append(acc)\n",
      "roc_train.append(roc)\n",
      "acc,roc = analysis.computeStatsMulti(features, labels_ver_val, distance = cosineDistance)\n",
      "acc_val.append(acc)\n",
      "roc_val.append(roc)\n",
      "#LFW\n",
      "acc,roc = analysis.computeStatsMulti(features_lfw, pairs_lfw, distance = cosineDistance)\n",
      "acc_lfw.append(acc)\n",
      "roc_lfw.append(roc)"
     ],
     "language": "python",
     "metadata": {},
     "outputs": [
      {
       "output_type": "stream",
       "stream": "stdout",
       "text": [
        "1581450\n"
       ]
      },
      {
       "output_type": "stream",
       "stream": "stdout",
       "text": [
        "1581174\n",
        "argmax: "
       ]
      },
      {
       "output_type": "stream",
       "stream": "stdout",
       "text": [
        " 52\n",
        "Best Thres: 0.250741353541\n"
       ]
      },
      {
       "output_type": "stream",
       "stream": "stdout",
       "text": [
        "391768\n"
       ]
      },
      {
       "output_type": "stream",
       "stream": "stdout",
       "text": [
        "388080\n",
        "argmax: "
       ]
      },
      {
       "output_type": "stream",
       "stream": "stdout",
       "text": [
        " 51\n",
        "Best Thres: 0.244977434476\n"
       ]
      },
      {
       "output_type": "stream",
       "stream": "stdout",
       "text": [
        "3000\n"
       ]
      },
      {
       "output_type": "stream",
       "stream": "stdout",
       "text": [
        "3000\n",
        "argmax:  57\n",
        "Best Thres: 0.367926221905\n"
       ]
      }
     ],
     "prompt_number": 5
    },
    {
     "cell_type": "code",
     "collapsed": false,
     "input": [
      "labels.append(\"Chi^2 Distance\")\n",
      "#chi2 distance\n",
      "acc,roc = analysis.computeStatsMulti(features, labels_ver_train, distance = chi2DistanceSum, scaler = True, reset_scaler = True)\n",
      "acc_train.append(acc)\n",
      "roc_train.append(roc)\n",
      "acc,roc = analysis.computeStatsMulti(features, labels_ver_val, distance = chi2DistanceSum, scaler = True)\n",
      "acc_val.append(acc)\n",
      "roc_val.append(roc)\n",
      "#LFW\n",
      "acc,roc = analysis.computeStatsMulti(features_lfw, pairs_lfw, distance = chi2DistanceSum, scaler = True)\n",
      "acc_lfw.append(acc)\n",
      "roc_lfw.append(roc)"
     ],
     "language": "python",
     "metadata": {},
     "outputs": [
      {
       "output_type": "stream",
       "stream": "stdout",
       "text": [
        "Save algorithm:  scaler\n"
       ]
      },
      {
       "output_type": "stream",
       "stream": "stdout",
       "text": [
        "1581450\n"
       ]
      },
      {
       "output_type": "stream",
       "stream": "stdout",
       "text": [
        "1581174\n",
        "argmax: "
       ]
      },
      {
       "output_type": "stream",
       "stream": "stdout",
       "text": [
        " 68\n",
        "Best Thres: -5.75282869435\n"
       ]
      },
      {
       "output_type": "stream",
       "stream": "stdout",
       "text": [
        "391768\n"
       ]
      },
      {
       "output_type": "stream",
       "stream": "stdout",
       "text": [
        "388080\n",
        "argmax: "
       ]
      },
      {
       "output_type": "stream",
       "stream": "stdout",
       "text": [
        " 67\n",
        "Best Thres: -5.955741497\n"
       ]
      },
      {
       "output_type": "stream",
       "stream": "stdout",
       "text": [
        "3000\n"
       ]
      },
      {
       "output_type": "stream",
       "stream": "stdout",
       "text": [
        "3000\n",
        "argmax:  68\n",
        "Best Thres: -5.15387022375\n"
       ]
      }
     ],
     "prompt_number": 8
    },
    {
     "cell_type": "code",
     "collapsed": false,
     "input": [
      "labels.append(\"PCA + Cosine Distance\")\n",
      "#PCA + Cosine\n",
      "name_alg = \"pca\"\n",
      "acc,roc  = analysis.compressDescriptors(name_alg, features, labels_ver_train, dim = 100)\n",
      "acc_train.append(acc)\n",
      "roc_train.append(roc)\n",
      "acc,roc = analysis.compressDescriptorsTransform(features, labels_ver_val, name_alg)\n",
      "acc_val.append(acc)\n",
      "roc_val.append(roc)\n",
      "#LFW\n",
      "acc,roc = analysis.compressDescriptorsTransform(features_lfw, pairs_lfw, name_alg)\n",
      "acc_lfw.append(acc)\n",
      "roc_lfw.append(roc)"
     ],
     "language": "python",
     "metadata": {},
     "outputs": [
      {
       "output_type": "stream",
       "stream": "stdout",
       "text": [
        "Save algorithm:  pca\n"
       ]
      },
      {
       "output_type": "stream",
       "stream": "stdout",
       "text": [
        "1581450\n"
       ]
      },
      {
       "output_type": "stream",
       "stream": "stdout",
       "text": [
        "1581174\n",
        "argmax: "
       ]
      },
      {
       "output_type": "stream",
       "stream": "stdout",
       "text": [
        " 41\n",
        "Best Thres: 0.161952947727\n"
       ]
      },
      {
       "output_type": "stream",
       "stream": "stdout",
       "text": [
        "391768\n"
       ]
      },
      {
       "output_type": "stream",
       "stream": "stdout",
       "text": [
        "388080\n",
        "argmax: "
       ]
      },
      {
       "output_type": "stream",
       "stream": "stdout",
       "text": [
        " 42\n",
        "Best Thres: 0.171238937161\n"
       ]
      },
      {
       "output_type": "stream",
       "stream": "stdout",
       "text": [
        "3000\n"
       ]
      },
      {
       "output_type": "stream",
       "stream": "stdout",
       "text": [
        "3000\n",
        "argmax:  45\n",
        "Best Thres: 0.275131469423\n"
       ]
      }
     ],
     "prompt_number": 11
    },
    {
     "cell_type": "code",
     "collapsed": false,
     "input": [
      "labels.append(\"LDA + Cosine Distance\")\n",
      "#LDA + Cosine distance\n",
      "acc,roc  = analysis.supervisedLearningLDA((features[labels_train],data.labels[labels_train]),labels_ver_train)\n",
      "acc_train.append(acc)\n",
      "roc_train.append(roc)\n",
      "acc,roc  = analysis.supervisedLearningPredictLDA(features,labels_ver_train)\n",
      "acc_train.append(acc)\n",
      "roc_train.append(roc)\n",
      "#LFW\n",
      "acc,roc = analysis.supervisedLearningPredictLDA(features_lfw, pairs_lfw)\n",
      "acc_lfw.append(acc)\n",
      "roc_lfw.append(roc)"
     ],
     "language": "python",
     "metadata": {},
     "outputs": [
      {
       "output_type": "stream",
       "stream": "stdout",
       "text": [
        "Save algorithm:  lda\n"
       ]
      },
      {
       "output_type": "stream",
       "stream": "stderr",
       "text": [
        "/usr/lib/python2.7/dist-packages/sklearn/lda.py:162: UserWarning: Variables are collinear\n",
        "  warnings.warn(\"Variables are collinear\")\n"
       ]
      },
      {
       "output_type": "stream",
       "stream": "stdout",
       "text": [
        "1581450\n"
       ]
      },
      {
       "output_type": "stream",
       "stream": "stdout",
       "text": [
        "1581174\n",
        "argmax: "
       ]
      },
      {
       "output_type": "stream",
       "stream": "stdout",
       "text": [
        " 80\n",
        "Best Thres: 0.634811883194\n"
       ]
      },
      {
       "output_type": "stream",
       "stream": "stdout",
       "text": [
        "1581450\n"
       ]
      },
      {
       "output_type": "stream",
       "stream": "stdout",
       "text": [
        "1581174\n",
        "argmax: "
       ]
      },
      {
       "output_type": "stream",
       "stream": "stdout",
       "text": [
        " 80\n",
        "Best Thres: 0.634811883194\n"
       ]
      },
      {
       "output_type": "stream",
       "stream": "stdout",
       "text": [
        "3000\n"
       ]
      },
      {
       "output_type": "stream",
       "stream": "stdout",
       "text": [
        "3000\n",
        "argmax:  83\n",
        "Best Thres: 0.68774150642\n"
       ]
      }
     ],
     "prompt_number": 13
    },
    {
     "cell_type": "code",
     "collapsed": false,
     "input": [
      "labels.append(\"Join Bayes\")\n",
      "#Join Bayes \n",
      "#LDA + Cosine distance\n",
      "acc,roc  = analysis.supervisedLearningJB((features[labels_train],data.labels[labels_train]),labels_ver_train)\n",
      "acc_train.append(acc)\n",
      "roc_train.append(roc)\n",
      "acc,roc  = analysis.supervisedLearningPredictJB(features,labels_ver_train)\n",
      "acc_train.append(acc)\n",
      "roc_train.append(roc)\n",
      "#LFW\n",
      "acc,roc = analysis.supervisedLearningPredictJB(features_lfw, pairs_lfw)\n",
      "acc_lfw.append(acc)\n",
      "roc_lfw.append(roc)"
     ],
     "language": "python",
     "metadata": {},
     "outputs": [],
     "prompt_number": "*"
    },
    {
     "cell_type": "code",
     "collapsed": false,
     "input": [
      "labels.append(\"SVM + Chi^2\")\n",
      "#SVM on output of Chi^2 distance\n",
      "acc,roc  = analysis.supervisedLearningSVM((features, labels_ver_train), chi2Distance)\n",
      "acc_train.append(acc)\n",
      "roc_train.append(roc)\n",
      "acc,roc  = analysis.supervisedLearningPredictSVM(features,labels_ver_train)\n",
      "acc_train.append(acc)\n",
      "roc_train.append(roc)\n",
      "#LFW\n",
      "acc,roc = analysis.supervisedLearningPredictSVM(features_lfw, pairs_lfw)\n",
      "acc_lfw.append(acc)\n",
      "roc_lfw.append(roc)"
     ],
     "language": "python",
     "metadata": {},
     "outputs": []
    },
    {
     "cell_type": "code",
     "collapsed": false,
     "input": [
      "analysis.displayStats(labels, acc_train, roc_train, \"CASIA_train\")"
     ],
     "language": "python",
     "metadata": {},
     "outputs": []
    }
   ],
   "metadata": {}
  }
 ]
}